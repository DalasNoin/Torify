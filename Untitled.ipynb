{
 "cells": [
  {
   "cell_type": "code",
   "execution_count": 3,
   "metadata": {
    "collapsed": false
   },
   "outputs": [
    {
     "name": "stdout",
     "output_type": "stream",
     "text": [
      "\u001b[1mStarting Tor:\n",
      "\u001b[0m\n"
     ]
    },
    {
     "ename": "OSError",
     "evalue": "Process terminated: Failed to bind one of the listener ports.",
     "output_type": "error",
     "traceback": [
      "\u001b[0;31m---------------------------------------------------------------------------\u001b[0m",
      "\u001b[0;31mOSError\u001b[0m                                   Traceback (most recent call last)",
      "\u001b[0;32m<ipython-input-3-0c0509e91112>\u001b[0m in \u001b[0;36m<module>\u001b[0;34m()\u001b[0m\n\u001b[1;32m     44\u001b[0m     \u001b[0;34m'ExitNodes'\u001b[0m\u001b[0;34m:\u001b[0m \u001b[0;34m'{ru}'\u001b[0m\u001b[0;34m,\u001b[0m\u001b[0;34m\u001b[0m\u001b[0m\n\u001b[1;32m     45\u001b[0m   },\n\u001b[0;32m---> 46\u001b[0;31m   \u001b[0minit_msg_handler\u001b[0m \u001b[0;34m=\u001b[0m \u001b[0mprint_bootstrap_lines\u001b[0m\u001b[0;34m,\u001b[0m\u001b[0;34m\u001b[0m\u001b[0m\n\u001b[0m\u001b[1;32m     47\u001b[0m )\n\u001b[1;32m     48\u001b[0m \u001b[0;34m\u001b[0m\u001b[0m\n",
      "\u001b[0;32m/usr/local/lib/python3.5/dist-packages/stem/process.py\u001b[0m in \u001b[0;36mlaunch_tor_with_config\u001b[0;34m(config, tor_cmd, completion_percent, init_msg_handler, timeout, take_ownership)\u001b[0m\n\u001b[1;32m    253\u001b[0m \u001b[0;34m\u001b[0m\u001b[0m\n\u001b[1;32m    254\u001b[0m   \u001b[0;32mif\u001b[0m \u001b[0muse_stdin\u001b[0m\u001b[0;34m:\u001b[0m\u001b[0;34m\u001b[0m\u001b[0m\n\u001b[0;32m--> 255\u001b[0;31m     \u001b[0;32mreturn\u001b[0m \u001b[0mlaunch_tor\u001b[0m\u001b[0;34m(\u001b[0m\u001b[0mtor_cmd\u001b[0m\u001b[0;34m,\u001b[0m \u001b[0;34m[\u001b[0m\u001b[0;34m'-f'\u001b[0m\u001b[0;34m,\u001b[0m \u001b[0;34m'-'\u001b[0m\u001b[0;34m]\u001b[0m\u001b[0;34m,\u001b[0m \u001b[0;32mNone\u001b[0m\u001b[0;34m,\u001b[0m \u001b[0mcompletion_percent\u001b[0m\u001b[0;34m,\u001b[0m \u001b[0minit_msg_handler\u001b[0m\u001b[0;34m,\u001b[0m \u001b[0mtimeout\u001b[0m\u001b[0;34m,\u001b[0m \u001b[0mtake_ownership\u001b[0m\u001b[0;34m,\u001b[0m \u001b[0mstdin\u001b[0m \u001b[0;34m=\u001b[0m \u001b[0mconfig_str\u001b[0m\u001b[0;34m)\u001b[0m\u001b[0;34m\u001b[0m\u001b[0m\n\u001b[0m\u001b[1;32m    256\u001b[0m   \u001b[0;32melse\u001b[0m\u001b[0;34m:\u001b[0m\u001b[0;34m\u001b[0m\u001b[0m\n\u001b[1;32m    257\u001b[0m     \u001b[0mtorrc_descriptor\u001b[0m\u001b[0;34m,\u001b[0m \u001b[0mtorrc_path\u001b[0m \u001b[0;34m=\u001b[0m \u001b[0mtempfile\u001b[0m\u001b[0;34m.\u001b[0m\u001b[0mmkstemp\u001b[0m\u001b[0;34m(\u001b[0m\u001b[0mprefix\u001b[0m \u001b[0;34m=\u001b[0m \u001b[0;34m'torrc-'\u001b[0m\u001b[0;34m,\u001b[0m \u001b[0mtext\u001b[0m \u001b[0;34m=\u001b[0m \u001b[0;32mTrue\u001b[0m\u001b[0;34m)\u001b[0m\u001b[0;34m\u001b[0m\u001b[0m\n",
      "\u001b[0;32m/usr/local/lib/python3.5/dist-packages/stem/process.py\u001b[0m in \u001b[0;36mlaunch_tor\u001b[0;34m(tor_cmd, args, torrc_path, completion_percent, init_msg_handler, timeout, take_ownership, stdin)\u001b[0m\n\u001b[1;32m    141\u001b[0m       \u001b[0;32mif\u001b[0m \u001b[0;32mnot\u001b[0m \u001b[0minit_line\u001b[0m\u001b[0;34m:\u001b[0m\u001b[0;34m\u001b[0m\u001b[0m\n\u001b[1;32m    142\u001b[0m         \u001b[0mtor_process\u001b[0m\u001b[0;34m.\u001b[0m\u001b[0mkill\u001b[0m\u001b[0;34m(\u001b[0m\u001b[0;34m)\u001b[0m  \u001b[0;31m# ... but best make sure\u001b[0m\u001b[0;34m\u001b[0m\u001b[0m\n\u001b[0;32m--> 143\u001b[0;31m         \u001b[0;32mraise\u001b[0m \u001b[0mOSError\u001b[0m\u001b[0;34m(\u001b[0m\u001b[0;34m'Process terminated: %s'\u001b[0m \u001b[0;34m%\u001b[0m \u001b[0mlast_problem\u001b[0m\u001b[0;34m)\u001b[0m\u001b[0;34m\u001b[0m\u001b[0m\n\u001b[0m\u001b[1;32m    144\u001b[0m \u001b[0;34m\u001b[0m\u001b[0m\n\u001b[1;32m    145\u001b[0m       \u001b[0;31m# provide the caller with the initialization message if they want it\u001b[0m\u001b[0;34m\u001b[0m\u001b[0;34m\u001b[0m\u001b[0m\n",
      "\u001b[0;31mOSError\u001b[0m: Process terminated: Failed to bind one of the listener ports."
     ]
    }
   ],
   "source": [
    "import io\n",
    "import pycurl\n",
    "\n",
    "import stem.process\n",
    "\n",
    "from stem.util import term\n",
    "\n",
    "SOCKS_PORT = 7000\n",
    "\n",
    "\n",
    "def query(url):\n",
    "\n",
    "\n",
    "  output = io.BytesIO()\n",
    "\n",
    "  query = pycurl.Curl()\n",
    "  query.setopt(pycurl.URL, url)\n",
    "  query.setopt(pycurl.PROXY, 'localhost')\n",
    "  query.setopt(pycurl.PROXYPORT, SOCKS_PORT)\n",
    "  query.setopt(pycurl.PROXYTYPE, pycurl.PROXYTYPE_SOCKS5_HOSTNAME)\n",
    "  query.setopt(pycurl.WRITEFUNCTION, output.write)\n",
    "\n",
    "  try:\n",
    "    query.perform()\n",
    "    return output.getvalue()\n",
    "  except pycurl.error as exc:\n",
    "    return \"Unable to reach %s (%s)\" % (url, exc)\n",
    "\n",
    "\n",
    "# Start an instance of Tor configured to only exit through Russia. This prints\n",
    "# Tor's bootstrap information as it starts. Note that this likely will not\n",
    "# work if you have another Tor instance running.\n",
    "\n",
    "def print_bootstrap_lines(line):\n",
    "  if \"Bootstrapped \" in line:\n",
    "    print(term.format(line, term.Color.BLUE))\n",
    "\n",
    "\n",
    "print(term.format(\"Starting Tor:\\n\", term.Attr.BOLD))\n",
    "\n",
    "tor_process = stem.process.launch_tor_with_config(\n",
    "  config = {\n",
    "    'SocksPort': str(SOCKS_PORT),\n",
    "    'ExitNodes': '{ru}',\n",
    "  },\n",
    "  init_msg_handler = print_bootstrap_lines,\n",
    ")\n",
    "\n",
    "print(term.format(\"\\nChecking our endpoint:\\n\", term.Attr.BOLD))\n",
    "print(term.format(query(\"https://www.atagar.com/echo.php\"), term.Color.BLUE))\n",
    "\n",
    "tor_process.kill()  # stops tor\n"
   ]
  },
  {
   "cell_type": "code",
   "execution_count": null,
   "metadata": {
    "collapsed": true
   },
   "outputs": [],
   "source": []
  }
 ],
 "metadata": {
  "kernelspec": {
   "display_name": "Python 3",
   "language": "python",
   "name": "python3"
  },
  "language_info": {
   "codemirror_mode": {
    "name": "ipython",
    "version": 3
   },
   "file_extension": ".py",
   "mimetype": "text/x-python",
   "name": "python",
   "nbconvert_exporter": "python",
   "pygments_lexer": "ipython3",
   "version": "3.5.2"
  }
 },
 "nbformat": 4,
 "nbformat_minor": 0
}
